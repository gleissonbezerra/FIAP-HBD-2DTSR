{
  "cells": [
    {
      "cell_type": "markdown",
      "metadata": {
        "id": "rfKatmwb4qXq",
        "papermill": {
          "duration": 0.044934,
          "end_time": "2020-09-30T20:51:28.781745",
          "exception": false,
          "start_time": "2020-09-30T20:51:28.736811",
          "status": "completed"
        },
        "tags": []
      },
      "source": [
        "# **NLP - SPACY - PORTUGUESE**"
      ]
    },
    {
      "cell_type": "code",
      "execution_count": null,
      "metadata": {
        "execution": {
          "iopub.execute_input": "2020-09-30T20:51:28.872998Z",
          "iopub.status.busy": "2020-09-30T20:51:28.872433Z",
          "iopub.status.idle": "2020-09-30T20:51:35.682130Z",
          "shell.execute_reply": "2020-09-30T20:51:35.681509Z"
        },
        "id": "Zyq3z8sZ8d72",
        "papermill": {
          "duration": 6.857642,
          "end_time": "2020-09-30T20:51:35.682233",
          "exception": false,
          "start_time": "2020-09-30T20:51:28.824591",
          "status": "completed"
        },
        "tags": []
      },
      "outputs": [],
      "source": [
        "# to update spacy.\n",
        "# I'll use portuguese spacy than I need  update it\n",
        "!pip install -U spacy\n"
      ]
    },
    {
      "cell_type": "code",
      "execution_count": null,
      "metadata": {
        "execution": {
          "iopub.execute_input": "2020-09-30T20:51:35.821495Z",
          "iopub.status.busy": "2020-09-30T20:51:35.820883Z",
          "iopub.status.idle": "2020-09-30T20:51:36.553864Z",
          "shell.execute_reply": "2020-09-30T20:51:36.553301Z"
        },
        "id": "K1i5U2JF4j4m",
        "papermill": {
          "duration": 0.803153,
          "end_time": "2020-09-30T20:51:36.553966",
          "exception": false,
          "start_time": "2020-09-30T20:51:35.750813",
          "status": "completed"
        },
        "tags": []
      },
      "outputs": [],
      "source": [
        "import spacy"
      ]
    },
    {
      "cell_type": "code",
      "execution_count": null,
      "metadata": {
        "execution": {
          "iopub.execute_input": "2020-09-30T20:51:36.689583Z",
          "iopub.status.busy": "2020-09-30T20:51:36.674661Z",
          "iopub.status.idle": "2020-09-30T20:51:51.124890Z",
          "shell.execute_reply": "2020-09-30T20:51:51.124387Z"
        },
        "id": "dIRC45-d8w-J",
        "papermill": {
          "duration": 14.516221,
          "end_time": "2020-09-30T20:51:51.124965",
          "exception": false,
          "start_time": "2020-09-30T20:51:36.608744",
          "status": "completed"
        },
        "tags": []
      },
      "outputs": [],
      "source": [
        "# install Portuguese model language\n",
        "import spacy.cli\n",
        "spacy.cli.download(\"pt_core_news_sm\")"
      ]
    },
    {
      "cell_type": "code",
      "execution_count": null,
      "metadata": {
        "execution": {
          "iopub.execute_input": "2020-09-30T20:51:51.219114Z",
          "iopub.status.busy": "2020-09-30T20:51:51.218670Z",
          "iopub.status.idle": "2020-09-30T20:51:53.936232Z",
          "shell.execute_reply": "2020-09-30T20:51:53.935833Z"
        },
        "id": "RLcCTFkL481-",
        "papermill": {
          "duration": 2.765692,
          "end_time": "2020-09-30T20:51:53.936313",
          "exception": false,
          "start_time": "2020-09-30T20:51:51.170621",
          "status": "completed"
        },
        "tags": []
      },
      "outputs": [],
      "source": [
        "nlp = spacy.load('pt_core_news_sm')"
      ]
    },
    {
      "cell_type": "code",
      "execution_count": null,
      "metadata": {
        "execution": {
          "iopub.execute_input": "2020-09-30T20:51:54.035314Z",
          "iopub.status.busy": "2020-09-30T20:51:54.034881Z",
          "iopub.status.idle": "2020-09-30T20:51:54.061220Z",
          "shell.execute_reply": "2020-09-30T20:51:54.060840Z"
        },
        "id": "STrW1wi85ETm",
        "papermill": {
          "duration": 0.079069,
          "end_time": "2020-09-30T20:51:54.061304",
          "exception": false,
          "start_time": "2020-09-30T20:51:53.982235",
          "status": "completed"
        },
        "tags": []
      },
      "outputs": [],
      "source": [
        "text1 = nlp(u'Meu nome é Gleisson.')"
      ]
    },
    {
      "cell_type": "code",
      "execution_count": null,
      "metadata": {
        "execution": {
          "iopub.execute_input": "2020-09-30T20:51:54.158203Z",
          "iopub.status.busy": "2020-09-30T20:51:54.157761Z",
          "iopub.status.idle": "2020-09-30T20:51:54.160937Z",
          "shell.execute_reply": "2020-09-30T20:51:54.161262Z"
        },
        "id": "hUjdEdf75YwN",
        "papermill": {
          "duration": 0.053714,
          "end_time": "2020-09-30T20:51:54.161358",
          "exception": false,
          "start_time": "2020-09-30T20:51:54.107644",
          "status": "completed"
        },
        "tags": []
      },
      "outputs": [],
      "source": [
        "text1"
      ]
    },
    {
      "cell_type": "code",
      "execution_count": null,
      "metadata": {
        "execution": {
          "iopub.execute_input": "2020-09-30T20:51:54.258128Z",
          "iopub.status.busy": "2020-09-30T20:51:54.257683Z",
          "iopub.status.idle": "2020-09-30T20:51:54.260485Z",
          "shell.execute_reply": "2020-09-30T20:51:54.260040Z"
        },
        "id": "88XeOEI65aod",
        "papermill": {
          "duration": 0.05257,
          "end_time": "2020-09-30T20:51:54.260557",
          "exception": false,
          "start_time": "2020-09-30T20:51:54.207987",
          "status": "completed"
        },
        "tags": []
      },
      "outputs": [],
      "source": [
        "print([d for d in text1])"
      ]
    },
    {
      "cell_type": "markdown",
      "metadata": {
        "id": "c_KeAxAZ7g2K",
        "papermill": {
          "duration": 0.045527,
          "end_time": "2020-09-30T20:51:54.352210",
          "exception": false,
          "start_time": "2020-09-30T20:51:54.306683",
          "status": "completed"
        },
        "tags": []
      },
      "source": [
        "**Entendendo melhor a estrutura de palavras**"
      ]
    },
    {
      "cell_type": "code",
      "execution_count": null,
      "metadata": {
        "execution": {
          "iopub.execute_input": "2020-09-30T20:51:54.448340Z",
          "iopub.status.busy": "2020-09-30T20:51:54.447662Z",
          "iopub.status.idle": "2020-09-30T20:51:54.451635Z",
          "shell.execute_reply": "2020-09-30T20:51:54.451162Z"
        },
        "id": "yP5EhHbi5yeg",
        "papermill": {
          "duration": 0.053693,
          "end_time": "2020-09-30T20:51:54.451707",
          "exception": false,
          "start_time": "2020-09-30T20:51:54.398014",
          "status": "completed"
        },
        "tags": []
      },
      "outputs": [],
      "source": [
        "# tokenizing doc object\n",
        "[token.text for token in text1]"
      ]
    },
    {
      "cell_type": "code",
      "execution_count": null,
      "metadata": {
        "execution": {
          "iopub.execute_input": "2020-09-30T20:51:54.761129Z",
          "iopub.status.busy": "2020-09-30T20:51:54.760425Z",
          "iopub.status.idle": "2020-09-30T20:51:54.765902Z",
          "shell.execute_reply": "2020-09-30T20:51:54.766441Z"
        },
        "id": "HK_Rd_Mb6zXp",
        "papermill": {
          "duration": 0.057407,
          "end_time": "2020-09-30T20:51:54.766593",
          "exception": false,
          "start_time": "2020-09-30T20:51:54.709186",
          "status": "completed"
        },
        "tags": []
      },
      "outputs": [],
      "source": [
        "# IS ALPHA, IS PUNCT, IS LOWER.. etc\n",
        "for token in text1:\n",
        "  print('TXT:',token.text, ' -- é caracter?:',token.is_alpha,\n",
        "        'é pontuacao?:', token.is_punct, 'está em caixa baixa?:', token.is_lower)"
      ]
    },
    {
      "cell_type": "markdown",
      "metadata": {
        "id": "M5knlFhj-MPr",
        "papermill": {
          "duration": 0.047566,
          "end_time": "2020-09-30T20:51:54.862774",
          "exception": false,
          "start_time": "2020-09-30T20:51:54.815208",
          "status": "completed"
        },
        "tags": []
      },
      "source": [
        "**Similaridade**"
      ]
    },
    {
      "cell_type": "code",
      "execution_count": null,
      "metadata": {
        "execution": {
          "iopub.execute_input": "2020-09-30T20:51:54.962972Z",
          "iopub.status.busy": "2020-09-30T20:51:54.962428Z",
          "iopub.status.idle": "2020-09-30T20:51:54.998439Z",
          "shell.execute_reply": "2020-09-30T20:51:54.998912Z"
        },
        "id": "fOB6u6Im-LQR",
        "papermill": {
          "duration": 0.088684,
          "end_time": "2020-09-30T20:51:54.999034",
          "exception": false,
          "start_time": "2020-09-30T20:51:54.910350",
          "status": "completed"
        },
        "tags": []
      },
      "outputs": [],
      "source": [
        "text2 = nlp(\"Meu nome é Gleisson!\")\n",
        "print( text1.similarity(text2) )\n"
      ]
    }
  ],
  "metadata": {
    "kernelspec": {
      "display_name": "Python 3",
      "language": "python",
      "name": "python3"
    },
    "language_info": {
      "codemirror_mode": {
        "name": "ipython",
        "version": 3
      },
      "file_extension": ".py",
      "mimetype": "text/x-python",
      "name": "python",
      "nbconvert_exporter": "python",
      "pygments_lexer": "ipython3",
      "version": "3.7.6"
    },
    "papermill": {
      "duration": 45.241181,
      "end_time": "2020-09-30T20:52:09.839160",
      "environment_variables": {},
      "exception": null,
      "input_path": "__notebook__.ipynb",
      "output_path": "__notebook__.ipynb",
      "parameters": {},
      "start_time": "2020-09-30T20:51:24.597979",
      "version": "2.1.0"
    },
    "colab": {
      "provenance": []
    }
  },
  "nbformat": 4,
  "nbformat_minor": 0
}