{
  "cells": [
    {
      "cell_type": "markdown",
      "metadata": {
        "id": "rfKatmwb4qXq",
        "papermill": {
          "duration": 0.044934,
          "end_time": "2020-09-30T20:51:28.781745",
          "exception": false,
          "start_time": "2020-09-30T20:51:28.736811",
          "status": "completed"
        },
        "tags": []
      },
      "source": [
        "# **NLP - BERT - PORTUGUESE**"
      ]
    },
    {
      "cell_type": "code",
      "source": [
        "!pip install transformers\n",
        "!pip install tensorflow_text"
      ],
      "metadata": {
        "id": "3PjlJZSkaNgB"
      },
      "execution_count": null,
      "outputs": []
    },
    {
      "cell_type": "code",
      "execution_count": null,
      "metadata": {
        "execution": {
          "iopub.execute_input": "2020-09-30T20:51:35.821495Z",
          "iopub.status.busy": "2020-09-30T20:51:35.820883Z",
          "iopub.status.idle": "2020-09-30T20:51:36.553864Z",
          "shell.execute_reply": "2020-09-30T20:51:36.553301Z"
        },
        "id": "K1i5U2JF4j4m",
        "papermill": {
          "duration": 0.803153,
          "end_time": "2020-09-30T20:51:36.553966",
          "exception": false,
          "start_time": "2020-09-30T20:51:35.750813",
          "status": "completed"
        },
        "tags": []
      },
      "outputs": [],
      "source": [
        "import tensorflow as tf\n",
        "import tensorflow_text as text\n",
        "import numpy as np\n",
        "from transformers import AutoTokenizer, TFAutoModel"
      ]
    },
    {
      "cell_type": "code",
      "source": [
        "# Carregar o tokenizer e o modelo BERT pré-treinado\n",
        "tokenizer = AutoTokenizer.from_pretrained('bert-base-multilingual-cased')\n",
        "model = TFAutoModel.from_pretrained('bert-base-multilingual-cased')"
      ],
      "metadata": {
        "id": "YsK4xbRDa0gX"
      },
      "execution_count": null,
      "outputs": []
    },
    {
      "cell_type": "code",
      "execution_count": null,
      "metadata": {
        "execution": {
          "iopub.execute_input": "2020-09-30T20:51:36.689583Z",
          "iopub.status.busy": "2020-09-30T20:51:36.674661Z",
          "iopub.status.idle": "2020-09-30T20:51:51.124890Z",
          "shell.execute_reply": "2020-09-30T20:51:51.124387Z"
        },
        "id": "dIRC45-d8w-J",
        "papermill": {
          "duration": 14.516221,
          "end_time": "2020-09-30T20:51:51.124965",
          "exception": false,
          "start_time": "2020-09-30T20:51:36.608744",
          "status": "completed"
        },
        "tags": []
      },
      "outputs": [],
      "source": [
        "# Função para obter os embeddings de um texto usando BERT\n",
        "def embeddings(texto):\n",
        "    # Tokenizar o texto usando o tokenizer do BERT\n",
        "    tokens = tokenizer(texto, padding='max_length', truncation=True, max_length=128, return_tensors='tf')\n",
        "\n",
        "    # Obter os embeddings dos tokens usando o modelo BERT\n",
        "    outputs = model(tokens)\n",
        "\n",
        "    # Retornar os embeddings do último layer\n",
        "    embeddings = outputs.last_hidden_state[:, 0, :]\n",
        "\n",
        "    return embeddings"
      ]
    },
    {
      "cell_type": "code",
      "execution_count": null,
      "metadata": {
        "execution": {
          "iopub.execute_input": "2020-09-30T20:51:51.219114Z",
          "iopub.status.busy": "2020-09-30T20:51:51.218670Z",
          "iopub.status.idle": "2020-09-30T20:51:53.936232Z",
          "shell.execute_reply": "2020-09-30T20:51:53.935833Z"
        },
        "id": "RLcCTFkL481-",
        "papermill": {
          "duration": 2.765692,
          "end_time": "2020-09-30T20:51:53.936313",
          "exception": false,
          "start_time": "2020-09-30T20:51:51.170621",
          "status": "completed"
        },
        "tags": []
      },
      "outputs": [],
      "source": [
        "# Função para calcular a similaridade entre dois textos\n",
        "def similaridade(texto1, texto2):\n",
        "    # Obter os embeddings dos textos\n",
        "    embeddings1 = embeddings(texto1)\n",
        "    embeddings2 = embeddings(texto2)\n",
        "\n",
        "    # Converter os embeddings para numpy arrays\n",
        "    embeddings1 = embeddings1.numpy()\n",
        "    embeddings2 = embeddings2.numpy()\n",
        "\n",
        "    # Calcular a similaridade usando alguma métrica, por exemplo, a similaridade do cosseno\n",
        "    similaridade = np.dot(embeddings1[0], embeddings2[0]) / (np.linalg.norm(embeddings1[0]) * np.linalg.norm(embeddings2[0]))\n",
        "\n",
        "    return similaridade"
      ]
    },
    {
      "cell_type": "code",
      "execution_count": null,
      "metadata": {
        "execution": {
          "iopub.execute_input": "2020-09-30T20:51:54.035314Z",
          "iopub.status.busy": "2020-09-30T20:51:54.034881Z",
          "iopub.status.idle": "2020-09-30T20:51:54.061220Z",
          "shell.execute_reply": "2020-09-30T20:51:54.060840Z"
        },
        "id": "STrW1wi85ETm",
        "papermill": {
          "duration": 0.079069,
          "end_time": "2020-09-30T20:51:54.061304",
          "exception": false,
          "start_time": "2020-09-30T20:51:53.982235",
          "status": "completed"
        },
        "tags": []
      },
      "outputs": [],
      "source": [
        "texto1 = \"Meu nome é Gleisson.\"\n",
        "texto2 = \"Meu nome é Gleisson!\"\n",
        "\n",
        "print(similaridade(texto1, texto2))"
      ]
    }
  ],
  "metadata": {
    "kernelspec": {
      "display_name": "Python 3",
      "language": "python",
      "name": "python3"
    },
    "language_info": {
      "codemirror_mode": {
        "name": "ipython",
        "version": 3
      },
      "file_extension": ".py",
      "mimetype": "text/x-python",
      "name": "python",
      "nbconvert_exporter": "python",
      "pygments_lexer": "ipython3",
      "version": "3.7.6"
    },
    "papermill": {
      "duration": 45.241181,
      "end_time": "2020-09-30T20:52:09.839160",
      "environment_variables": {},
      "exception": null,
      "input_path": "__notebook__.ipynb",
      "output_path": "__notebook__.ipynb",
      "parameters": {},
      "start_time": "2020-09-30T20:51:24.597979",
      "version": "2.1.0"
    },
    "colab": {
      "provenance": []
    }
  },
  "nbformat": 4,
  "nbformat_minor": 0
}