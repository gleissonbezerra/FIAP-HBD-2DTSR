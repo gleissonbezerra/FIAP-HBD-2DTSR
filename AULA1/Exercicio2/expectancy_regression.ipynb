{
  "metadata": {
    "kernelspec": {
      "language": "python",
      "display_name": "Python 3",
      "name": "python3"
    },
    "language_info": {
      "name": "python",
      "version": "3.7.12",
      "mimetype": "text/x-python",
      "codemirror_mode": {
        "name": "ipython",
        "version": 3
      },
      "pygments_lexer": "ipython3",
      "nbconvert_exporter": "python",
      "file_extension": ".py"
    },
    "colab": {
      "provenance": []
    }
  },
  "nbformat_minor": 0,
  "nbformat": 4,
  "cells": [
    {
      "cell_type": "markdown",
      "source": [
        "# Importing the Modules"
      ],
      "metadata": {
        "id": "oQLmbyPow-qL"
      }
    },
    {
      "cell_type": "code",
      "source": [
        "import numpy as np\n",
        "import pandas as pd\n",
        "import matplotlib.pyplot as plt\n",
        "import seaborn as sns\n",
        "import sklearn\n",
        "import tensorflow as tf\n",
        "\n",
        "import os\n"
      ],
      "metadata": {
        "_uuid": "8f2839f25d086af736a60e9eeb907d3b93b6e0e5",
        "_cell_guid": "b1076dfc-b9ad-4769-8c92-a6c4dae69d19",
        "execution": {
          "iopub.status.busy": "2023-05-01T18:56:42.877935Z",
          "iopub.execute_input": "2023-05-01T18:56:42.878982Z",
          "iopub.status.idle": "2023-05-01T18:56:42.892290Z",
          "shell.execute_reply.started": "2023-05-01T18:56:42.878880Z",
          "shell.execute_reply": "2023-05-01T18:56:42.890778Z"
        },
        "trusted": true,
        "id": "xtsTfgJNw-qO"
      },
      "execution_count": null,
      "outputs": []
    },
    {
      "cell_type": "markdown",
      "source": [
        "# The Data"
      ],
      "metadata": {
        "id": "A1LL3BWlw-qQ"
      }
    },
    {
      "cell_type": "code",
      "source": [
        "df=pd.read_csv('Life-Expectancy-Data-Updated.csv')\n",
        "df.sample(5)"
      ],
      "metadata": {
        "execution": {
          "iopub.status.busy": "2023-05-01T17:17:14.573491Z",
          "iopub.execute_input": "2023-05-01T17:17:14.573976Z",
          "iopub.status.idle": "2023-05-01T17:17:14.622821Z",
          "shell.execute_reply.started": "2023-05-01T17:17:14.573934Z",
          "shell.execute_reply": "2023-05-01T17:17:14.621529Z"
        },
        "trusted": true,
        "id": "LZVI7Hbdw-qQ"
      },
      "execution_count": null,
      "outputs": []
    },
    {
      "cell_type": "code",
      "source": [
        "df.shape"
      ],
      "metadata": {
        "execution": {
          "iopub.status.busy": "2023-05-01T17:07:17.912583Z",
          "iopub.execute_input": "2023-05-01T17:07:17.913177Z",
          "iopub.status.idle": "2023-05-01T17:07:17.921512Z",
          "shell.execute_reply.started": "2023-05-01T17:07:17.913134Z",
          "shell.execute_reply": "2023-05-01T17:07:17.920142Z"
        },
        "trusted": true,
        "id": "0aBueyd3w-qQ"
      },
      "execution_count": null,
      "outputs": []
    },
    {
      "cell_type": "code",
      "source": [
        "df.info()"
      ],
      "metadata": {
        "execution": {
          "iopub.status.busy": "2023-05-01T17:07:21.667825Z",
          "iopub.execute_input": "2023-05-01T17:07:21.668265Z",
          "iopub.status.idle": "2023-05-01T17:07:21.685888Z",
          "shell.execute_reply.started": "2023-05-01T17:07:21.668223Z",
          "shell.execute_reply": "2023-05-01T17:07:21.684843Z"
        },
        "trusted": true,
        "id": "fRP8y9cJw-qR"
      },
      "execution_count": null,
      "outputs": []
    },
    {
      "cell_type": "code",
      "source": [
        "df.describe().T"
      ],
      "metadata": {
        "execution": {
          "iopub.status.busy": "2023-05-01T17:07:29.748267Z",
          "iopub.execute_input": "2023-05-01T17:07:29.748683Z",
          "iopub.status.idle": "2023-05-01T17:07:29.819533Z",
          "shell.execute_reply.started": "2023-05-01T17:07:29.748641Z",
          "shell.execute_reply": "2023-05-01T17:07:29.818176Z"
        },
        "trusted": true,
        "id": "poie7fcHw-qR"
      },
      "execution_count": null,
      "outputs": []
    },
    {
      "cell_type": "markdown",
      "source": [
        "# Null Values"
      ],
      "metadata": {
        "id": "vyq0ao23w-qR"
      }
    },
    {
      "cell_type": "code",
      "source": [
        "df.isna().sum()"
      ],
      "metadata": {
        "execution": {
          "iopub.status.busy": "2023-05-01T17:07:33.186399Z",
          "iopub.execute_input": "2023-05-01T17:07:33.186795Z",
          "iopub.status.idle": "2023-05-01T17:07:33.199327Z",
          "shell.execute_reply.started": "2023-05-01T17:07:33.186762Z",
          "shell.execute_reply": "2023-05-01T17:07:33.197814Z"
        },
        "trusted": true,
        "id": "B3HuUalIw-qR"
      },
      "execution_count": null,
      "outputs": []
    },
    {
      "cell_type": "code",
      "source": [
        "df.columns"
      ],
      "metadata": {
        "execution": {
          "iopub.status.busy": "2023-05-01T17:07:35.835107Z",
          "iopub.execute_input": "2023-05-01T17:07:35.835554Z",
          "iopub.status.idle": "2023-05-01T17:07:35.843779Z",
          "shell.execute_reply.started": "2023-05-01T17:07:35.835510Z",
          "shell.execute_reply": "2023-05-01T17:07:35.842462Z"
        },
        "trusted": true,
        "id": "RtLyfsG0w-qS"
      },
      "execution_count": null,
      "outputs": []
    },
    {
      "cell_type": "markdown",
      "source": [
        "# Visualizations"
      ],
      "metadata": {
        "execution": {
          "iopub.status.busy": "2023-05-01T15:17:20.118794Z",
          "iopub.execute_input": "2023-05-01T15:17:20.119191Z",
          "iopub.status.idle": "2023-05-01T15:17:20.130597Z",
          "shell.execute_reply.started": "2023-05-01T15:17:20.119155Z",
          "shell.execute_reply": "2023-05-01T15:17:20.128978Z"
        },
        "id": "KDr9OYu4w-qS"
      }
    },
    {
      "cell_type": "code",
      "source": [
        "df.boxplot('Life_expectancy')\n",
        "plt.show"
      ],
      "metadata": {
        "execution": {
          "iopub.status.busy": "2023-05-01T17:07:39.474778Z",
          "iopub.execute_input": "2023-05-01T17:07:39.475219Z",
          "iopub.status.idle": "2023-05-01T17:07:39.687598Z",
          "shell.execute_reply.started": "2023-05-01T17:07:39.475177Z",
          "shell.execute_reply": "2023-05-01T17:07:39.686184Z"
        },
        "trusted": true,
        "id": "IbcavrE8w-qS"
      },
      "execution_count": null,
      "outputs": []
    },
    {
      "cell_type": "markdown",
      "source": [
        "The Average life expectancy is 72 years, however there are still a lot of outliers which means that the there are some countries where the life expectancy is very low of around 40 years"
      ],
      "metadata": {
        "id": "DYgLCR_fw-qT"
      }
    },
    {
      "cell_type": "code",
      "source": [
        "sns.boxplot(x='Economy_status_Developed',y ='Life_expectancy',data = df)"
      ],
      "metadata": {
        "execution": {
          "iopub.status.busy": "2023-05-01T17:07:44.067815Z",
          "iopub.execute_input": "2023-05-01T17:07:44.068315Z",
          "iopub.status.idle": "2023-05-01T17:07:44.289127Z",
          "shell.execute_reply.started": "2023-05-01T17:07:44.068269Z",
          "shell.execute_reply": "2023-05-01T17:07:44.288146Z"
        },
        "trusted": true,
        "id": "omPI4SLGw-qT"
      },
      "execution_count": null,
      "outputs": []
    },
    {
      "cell_type": "markdown",
      "source": [
        "The people in the developed countries has life expectancy of 79 years compared to the devoloping countries with the life expectancy of 69 years"
      ],
      "metadata": {
        "id": "xa_wDYmSw-qT"
      }
    },
    {
      "cell_type": "markdown",
      "source": [
        "[sns.pairplot](http:seaborn.pydata.org/generated/seaborn.pairplot.html) can be used to view the various combinations on how the columns are related to each other"
      ],
      "metadata": {
        "id": "z5JjM24Dw-qT"
      }
    },
    {
      "cell_type": "code",
      "source": [
        "data_corr = df[['Life_expectancy','Adult_mortality','Schooling','GDP_per_capita',\n",
        "       'Population_mln']].corr()\n",
        "data_corr"
      ],
      "metadata": {
        "execution": {
          "iopub.status.busy": "2023-05-01T17:07:51.107534Z",
          "iopub.execute_input": "2023-05-01T17:07:51.108700Z",
          "iopub.status.idle": "2023-05-01T17:07:51.126361Z",
          "shell.execute_reply.started": "2023-05-01T17:07:51.108623Z",
          "shell.execute_reply": "2023-05-01T17:07:51.125156Z"
        },
        "trusted": true,
        "id": "kqw94Suqw-qU"
      },
      "execution_count": null,
      "outputs": []
    },
    {
      "cell_type": "code",
      "source": [
        "sns.heatmap(data_corr,annot=True)"
      ],
      "metadata": {
        "execution": {
          "iopub.status.busy": "2023-05-01T17:07:56.797339Z",
          "iopub.execute_input": "2023-05-01T17:07:56.797802Z",
          "iopub.status.idle": "2023-05-01T17:07:57.384074Z",
          "shell.execute_reply.started": "2023-05-01T17:07:56.797756Z",
          "shell.execute_reply": "2023-05-01T17:07:57.381985Z"
        },
        "trusted": true,
        "id": "B4zh7N7Lw-qU"
      },
      "execution_count": null,
      "outputs": []
    },
    {
      "cell_type": "markdown",
      "source": [
        "Greater the schooling and GDP ,greater the Life expectancy"
      ],
      "metadata": {
        "id": "VBXcGxZqw-qU"
      }
    },
    {
      "cell_type": "markdown",
      "source": [
        "# Selecting the Features and the Target"
      ],
      "metadata": {
        "id": "DgsLGONiw-qU"
      }
    },
    {
      "cell_type": "code",
      "source": [
        "# Droping the target varaiable\n",
        "features = df.drop(['Country','Region','Life_expectancy'],axis=1) # Since country and region doesnot provide any useful info\n",
        "features.columns"
      ],
      "metadata": {
        "execution": {
          "iopub.status.busy": "2023-05-01T17:17:27.182343Z",
          "iopub.execute_input": "2023-05-01T17:17:27.182770Z",
          "iopub.status.idle": "2023-05-01T17:17:27.191605Z",
          "shell.execute_reply.started": "2023-05-01T17:17:27.182731Z",
          "shell.execute_reply": "2023-05-01T17:17:27.190315Z"
        },
        "trusted": true,
        "id": "QrAlcTi7w-qU"
      },
      "execution_count": null,
      "outputs": []
    },
    {
      "cell_type": "code",
      "source": [
        "target = df[['Life_expectancy']]\n",
        "target.columns"
      ],
      "metadata": {
        "execution": {
          "iopub.status.busy": "2023-05-01T17:17:34.020623Z",
          "iopub.execute_input": "2023-05-01T17:17:34.021057Z",
          "iopub.status.idle": "2023-05-01T17:17:34.031075Z",
          "shell.execute_reply.started": "2023-05-01T17:17:34.021017Z",
          "shell.execute_reply": "2023-05-01T17:17:34.029506Z"
        },
        "trusted": true,
        "id": "A_mbcm9Zw-qV"
      },
      "execution_count": null,
      "outputs": []
    },
    {
      "cell_type": "code",
      "source": [
        "features.describe()"
      ],
      "metadata": {
        "execution": {
          "iopub.status.busy": "2023-05-01T17:21:15.333121Z",
          "iopub.execute_input": "2023-05-01T17:21:15.333509Z",
          "iopub.status.idle": "2023-05-01T17:21:15.407835Z",
          "shell.execute_reply.started": "2023-05-01T17:21:15.333474Z",
          "shell.execute_reply": "2023-05-01T17:21:15.406813Z"
        },
        "trusted": true,
        "id": "tZrGlxbAw-qV"
      },
      "execution_count": null,
      "outputs": []
    },
    {
      "cell_type": "code",
      "source": [
        "features.shape"
      ],
      "metadata": {
        "execution": {
          "iopub.status.busy": "2023-05-01T17:17:42.835073Z",
          "iopub.execute_input": "2023-05-01T17:17:42.835513Z",
          "iopub.status.idle": "2023-05-01T17:17:42.843914Z",
          "shell.execute_reply.started": "2023-05-01T17:17:42.835469Z",
          "shell.execute_reply": "2023-05-01T17:17:42.842447Z"
        },
        "trusted": true,
        "id": "seN2bfq_w-qV"
      },
      "execution_count": null,
      "outputs": []
    },
    {
      "cell_type": "code",
      "source": [
        "target.shape"
      ],
      "metadata": {
        "execution": {
          "iopub.status.busy": "2023-05-01T17:17:46.738636Z",
          "iopub.execute_input": "2023-05-01T17:17:46.739378Z",
          "iopub.status.idle": "2023-05-01T17:17:46.747862Z",
          "shell.execute_reply.started": "2023-05-01T17:17:46.739336Z",
          "shell.execute_reply": "2023-05-01T17:17:46.746419Z"
        },
        "trusted": true,
        "id": "wblPh-95w-qV"
      },
      "execution_count": null,
      "outputs": []
    },
    {
      "cell_type": "markdown",
      "source": [
        "# Standardization"
      ],
      "metadata": {
        "id": "DfS_96GNw-qV"
      }
    },
    {
      "cell_type": "code",
      "source": [
        "from sklearn.preprocessing import StandardScaler\n",
        "standardscaler = StandardScaler()\n",
        "features = pd.DataFrame(standardscaler.fit_transform(features),columns=features.columns,index = features.index)"
      ],
      "metadata": {
        "execution": {
          "iopub.status.busy": "2023-05-01T17:19:42.906548Z",
          "iopub.execute_input": "2023-05-01T17:19:42.907546Z",
          "iopub.status.idle": "2023-05-01T17:19:42.921833Z",
          "shell.execute_reply.started": "2023-05-01T17:19:42.907496Z",
          "shell.execute_reply": "2023-05-01T17:19:42.920426Z"
        },
        "trusted": true,
        "id": "cx3y3kAxw-qV"
      },
      "execution_count": null,
      "outputs": []
    },
    {
      "cell_type": "code",
      "source": [
        "features.describe().T"
      ],
      "metadata": {
        "execution": {
          "iopub.status.busy": "2023-05-01T17:46:19.396240Z",
          "iopub.execute_input": "2023-05-01T17:46:19.396782Z",
          "iopub.status.idle": "2023-05-01T17:46:19.464233Z",
          "shell.execute_reply.started": "2023-05-01T17:46:19.396745Z",
          "shell.execute_reply": "2023-05-01T17:46:19.462979Z"
        },
        "trusted": true,
        "id": "9ugRUzocw-qW"
      },
      "execution_count": null,
      "outputs": []
    },
    {
      "cell_type": "markdown",
      "source": [
        "# Train Test Split"
      ],
      "metadata": {
        "id": "l4qiP0uKw-qW"
      }
    },
    {
      "cell_type": "code",
      "source": [
        "from sklearn.model_selection import train_test_split\n",
        "x_train,x_test,y_train,y_test = train_test_split(features,target,test_size=0.2,random_state=1)\n",
        "(x_train.shape,x_test.shape),(y_train.shape,y_test.shape)"
      ],
      "metadata": {
        "execution": {
          "iopub.status.busy": "2023-05-01T17:25:20.897924Z",
          "iopub.execute_input": "2023-05-01T17:25:20.898389Z",
          "iopub.status.idle": "2023-05-01T17:25:20.912949Z",
          "shell.execute_reply.started": "2023-05-01T17:25:20.898348Z",
          "shell.execute_reply": "2023-05-01T17:25:20.911247Z"
        },
        "trusted": true,
        "id": "QkzypB_Ww-qW"
      },
      "execution_count": null,
      "outputs": []
    },
    {
      "cell_type": "markdown",
      "source": [
        "# Building and training Simple Neural Network"
      ],
      "metadata": {
        "id": "JBC3g0Vjw-qW"
      }
    },
    {
      "cell_type": "code",
      "source": [
        "from tensorflow import keras\n",
        "from tensorflow.keras import layers\n",
        "model = tf.keras.Sequential([keras.layers.Dense(32,input_shape = (x_train.shape[1],),activation = 'sigmoid'),\n",
        "                         keras.layers.Dense(1)])\n",
        "optimizer = tf.keras.optimizers.SGD(learning_rate=0.001)\n",
        "model.compile(loss='mse',metrics=['mae','mse'],optimizer = optimizer)"
      ],
      "metadata": {
        "execution": {
          "iopub.status.busy": "2023-05-01T18:18:40.825462Z",
          "iopub.execute_input": "2023-05-01T18:18:40.825917Z",
          "iopub.status.idle": "2023-05-01T18:18:40.866183Z",
          "shell.execute_reply.started": "2023-05-01T18:18:40.825864Z",
          "shell.execute_reply": "2023-05-01T18:18:40.864963Z"
        },
        "trusted": true,
        "id": "ghwIbVj9w-qW"
      },
      "execution_count": null,
      "outputs": []
    },
    {
      "cell_type": "code",
      "source": [
        "model.summary()"
      ],
      "metadata": {
        "execution": {
          "iopub.status.busy": "2023-05-01T18:18:45.407291Z",
          "iopub.execute_input": "2023-05-01T18:18:45.407706Z",
          "iopub.status.idle": "2023-05-01T18:18:45.430415Z",
          "shell.execute_reply.started": "2023-05-01T18:18:45.407665Z",
          "shell.execute_reply": "2023-05-01T18:18:45.428976Z"
        },
        "trusted": true,
        "id": "NPfiJ6r5w-qW"
      },
      "execution_count": null,
      "outputs": []
    },
    {
      "cell_type": "code",
      "source": [
        "tf.keras.utils.plot_model(model)"
      ],
      "metadata": {
        "execution": {
          "iopub.status.busy": "2023-05-01T18:18:49.806339Z",
          "iopub.execute_input": "2023-05-01T18:18:49.806778Z",
          "iopub.status.idle": "2023-05-01T18:18:49.928570Z",
          "shell.execute_reply.started": "2023-05-01T18:18:49.806741Z",
          "shell.execute_reply": "2023-05-01T18:18:49.926867Z"
        },
        "trusted": true,
        "id": "bFh-NtDSw-qW"
      },
      "execution_count": null,
      "outputs": []
    },
    {
      "cell_type": "code",
      "source": [
        "traininghistory = model.fit(x_train,y_train,epochs = 100,validation_split=0.2,verbose=True)"
      ],
      "metadata": {
        "execution": {
          "iopub.status.busy": "2023-05-01T18:18:53.207433Z",
          "iopub.execute_input": "2023-05-01T18:18:53.207923Z",
          "iopub.status.idle": "2023-05-01T18:19:11.072172Z",
          "shell.execute_reply.started": "2023-05-01T18:18:53.207865Z",
          "shell.execute_reply": "2023-05-01T18:19:11.070872Z"
        },
        "trusted": true,
        "id": "53715hpDw-qX"
      },
      "execution_count": null,
      "outputs": []
    },
    {
      "cell_type": "code",
      "source": [
        "plt.figure(figsize=(14,7))\n",
        "plt.subplot(1,2,1)\n",
        "plt.plot(traininghistory.history['mae'])\n",
        "plt.plot(traininghistory.history['val_mae'])\n",
        "plt.title('Model MAE')\n",
        "plt.xlabel('Epoch')\n",
        "plt.ylabel('MAE')\n",
        "plt.legend(['train','val'])\n",
        "\n",
        "plt.subplot(1,2,2)\n",
        "plt.plot(traininghistory.history['loss'])\n",
        "plt.plot(traininghistory.history['val_loss'])\n",
        "plt.title('Model Loss')\n",
        "plt.xlabel('Epoch')\n",
        "plt.ylabel('Loss')\n",
        "plt.legend(['train','val'])"
      ],
      "metadata": {
        "execution": {
          "iopub.status.busy": "2023-05-01T18:19:18.526686Z",
          "iopub.execute_input": "2023-05-01T18:19:18.527127Z",
          "iopub.status.idle": "2023-05-01T18:19:19.009503Z",
          "shell.execute_reply.started": "2023-05-01T18:19:18.527087Z",
          "shell.execute_reply": "2023-05-01T18:19:19.008159Z"
        },
        "trusted": true,
        "id": "rhuGc4tOw-qX"
      },
      "execution_count": null,
      "outputs": []
    },
    {
      "cell_type": "code",
      "source": [
        "model.evaluate(x_test,y_test)\n"
      ],
      "metadata": {
        "execution": {
          "iopub.status.busy": "2023-05-01T18:19:24.655197Z",
          "iopub.execute_input": "2023-05-01T18:19:24.656274Z",
          "iopub.status.idle": "2023-05-01T18:19:24.791439Z",
          "shell.execute_reply.started": "2023-05-01T18:19:24.656224Z",
          "shell.execute_reply": "2023-05-01T18:19:24.790217Z"
        },
        "trusted": true,
        "id": "ojh7BpUtw-qX"
      },
      "execution_count": null,
      "outputs": []
    },
    {
      "cell_type": "code",
      "source": [
        "from sklearn.metrics import r2_score\n",
        "y_pred = model.predict(x_test)\n",
        "r2_score(y_test,y_pred)"
      ],
      "metadata": {
        "execution": {
          "iopub.status.busy": "2023-05-01T18:19:27.527970Z",
          "iopub.execute_input": "2023-05-01T18:19:27.528375Z",
          "iopub.status.idle": "2023-05-01T18:19:27.686336Z",
          "shell.execute_reply.started": "2023-05-01T18:19:27.528338Z",
          "shell.execute_reply": "2023-05-01T18:19:27.685005Z"
        },
        "trusted": true,
        "id": "54SJzQBWw-qX"
      },
      "execution_count": null,
      "outputs": []
    },
    {
      "cell_type": "markdown",
      "source": [
        "The trained model is a 98.5% accurate model"
      ],
      "metadata": {
        "id": "a4cC_D5Mw-qX"
      }
    },
    {
      "cell_type": "code",
      "source": [
        "predicted_results = pd.DataFrame({'y_test':y_test.values.flatten(),\n",
        "                                 'y_pred':y_pred.flatten()},index =range(len(y_pred)))\n",
        "predicted_results.sample(10)"
      ],
      "metadata": {
        "execution": {
          "iopub.status.busy": "2023-05-01T18:19:39.207980Z",
          "iopub.execute_input": "2023-05-01T18:19:39.209382Z",
          "iopub.status.idle": "2023-05-01T18:19:39.227549Z",
          "shell.execute_reply.started": "2023-05-01T18:19:39.209311Z",
          "shell.execute_reply": "2023-05-01T18:19:39.226125Z"
        },
        "trusted": true,
        "id": "1W3HZNdfw-qY"
      },
      "execution_count": null,
      "outputs": []
    },
    {
      "cell_type": "code",
      "source": [
        "plt.scatter(y_test,y_pred)\n",
        "plt.xlabel('Actual Life Expectancy')\n",
        "plt.ylabel('Predicted Life Expectancy')\n",
        "plt.show()"
      ],
      "metadata": {
        "execution": {
          "iopub.status.busy": "2023-05-01T18:19:43.605384Z",
          "iopub.execute_input": "2023-05-01T18:19:43.605865Z",
          "iopub.status.idle": "2023-05-01T18:19:43.837765Z",
          "shell.execute_reply.started": "2023-05-01T18:19:43.605819Z",
          "shell.execute_reply": "2023-05-01T18:19:43.836077Z"
        },
        "trusted": true,
        "id": "oGWQApoWw-qY"
      },
      "execution_count": null,
      "outputs": []
    }
  ]
}