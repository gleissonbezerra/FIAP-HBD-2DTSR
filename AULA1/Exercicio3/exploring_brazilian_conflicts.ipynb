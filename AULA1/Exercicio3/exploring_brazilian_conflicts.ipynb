{
  "cells": [
    {
      "cell_type": "markdown",
      "id": "48e3d980",
      "metadata": {
        "papermill": {
          "duration": 0.008718,
          "end_time": "2023-02-16T18:08:15.912798",
          "exception": false,
          "start_time": "2023-02-16T18:08:15.904080",
          "status": "completed"
        },
        "tags": [],
        "id": "48e3d980"
      },
      "source": [
        "# Exploring Brazilian conflicts\n",
        "\n",
        "Here is an analysis of this dataset of recorded conflicts in Brazil. I am interested in visualizing the features of this data and answer the following questions:\n",
        "\n",
        "- How did the conflicts evolve over time and did they become more violent?\n",
        "- How are the conflicts distributed geographically?\n",
        "- What kind of conflicts are more common?\n",
        "- Who are the initiators, and who are they getting into conflicts with?\n",
        "- Is there a relationship between conflicts and demographic indicators?\n",
        "\n",
        "\n",
        "(To answer those questions I also use data from these other sources: [Shapefiles of Brazilian states](https://www.kaggle.com/datasets/rodsaldanha/brazilianstatesshapefiles) and [Brazilian cities](https://www.kaggle.com/datasets/crisparada/brazilian-cities).)"
      ]
    },
    {
      "cell_type": "code",
      "source": [
        "!pip install geoplot==0.5.1\n",
        "!pip install geopandas==0.10.2\n",
        "!pip3 install shapely==1.7.1"
      ],
      "metadata": {
        "id": "QqwMLEpg1C3q"
      },
      "id": "QqwMLEpg1C3q",
      "execution_count": null,
      "outputs": []
    },
    {
      "cell_type": "code",
      "execution_count": null,
      "id": "f38feec3",
      "metadata": {
        "_cell_guid": "b1076dfc-b9ad-4769-8c92-a6c4dae69d19",
        "_kg_hide-input": true,
        "_kg_hide-output": true,
        "_uuid": "8f2839f25d086af736a60e9eeb907d3b93b6e0e5",
        "execution": {
          "iopub.execute_input": "2023-02-16T18:08:15.930375Z",
          "iopub.status.busy": "2023-02-16T18:08:15.929197Z",
          "iopub.status.idle": "2023-02-16T18:08:21.945142Z",
          "shell.execute_reply": "2023-02-16T18:08:21.943889Z"
        },
        "papermill": {
          "duration": 6.027888,
          "end_time": "2023-02-16T18:08:21.948122",
          "exception": false,
          "start_time": "2023-02-16T18:08:15.920234",
          "status": "completed"
        },
        "tags": [],
        "id": "f38feec3"
      },
      "outputs": [],
      "source": [
        "\n",
        "import numpy as np # linear algebra\n",
        "import pandas as pd # data processing, CSV file I/O (e.g. pd.read_csv)\n",
        "\n",
        "import os\n",
        "\n",
        "\n",
        "import seaborn as sns\n",
        "import matplotlib.pyplot as plt\n",
        "\n",
        "# plot maps\n",
        "import geoplot as gplt\n",
        "import geoplot.crs as gcrs\n",
        "import geopandas as gpd\n",
        "from shapely.geometry import Point\n",
        "\n",
        "#### Load data\n",
        "data_conflicts = pd.read_csv('Brazil Political Violence and Protests Dataset.csv')\n",
        "data_cities = pd.read_csv('BRAZIL_CITIES_REV2022.CSV')\n",
        "\n",
        "plt.rcParams['figure.figsize'] = [12, 9]"
      ]
    },
    {
      "cell_type": "markdown",
      "id": "9dc84069",
      "metadata": {
        "papermill": {
          "duration": 0.007332,
          "end_time": "2023-02-16T18:08:21.962877",
          "exception": false,
          "start_time": "2023-02-16T18:08:21.955545",
          "status": "completed"
        },
        "tags": [],
        "id": "9dc84069"
      },
      "source": [
        "## How did the conflicts evolve over time and did they become more violent?\n",
        "\n",
        "The two graphs below show the evolution over time of the quantity of conflicts and their fatality rates. The vertical lines are dates of presidential elections. We can see two spikes in the number of conflicts. The peak in 2018 is due to the nationwide [protests of truck drivers](https://en.wikipedia.org/wiki/2018_Brazil_truck_drivers%27_strike), which lasted around two months. The (smaller) spike in the end of 2022 reflects the [unsatisfaction with the results of the presidential elections](https://en.wikipedia.org/wiki/2022%E2%80%932023_Brazilian_election_protests) that resulted in Lula being elected for his third mandate.\n",
        "\n",
        "Protests in 2018 leading to the election were associated with peak levels of violence. After the election, the number of fatalities plummeted and increased steadly. Conflicts after the 2022 elections, however, did not see nearly as many fatalities."
      ]
    },
    {
      "cell_type": "code",
      "execution_count": null,
      "id": "6d84cbf4",
      "metadata": {
        "_kg_hide-input": true,
        "execution": {
          "iopub.execute_input": "2023-02-16T18:08:21.979604Z",
          "iopub.status.busy": "2023-02-16T18:08:21.979177Z",
          "iopub.status.idle": "2023-02-16T18:08:22.507992Z",
          "shell.execute_reply": "2023-02-16T18:08:22.506738Z"
        },
        "papermill": {
          "duration": 0.54057,
          "end_time": "2023-02-16T18:08:22.510827",
          "exception": false,
          "start_time": "2023-02-16T18:08:21.970257",
          "status": "completed"
        },
        "tags": [],
        "id": "6d84cbf4"
      },
      "outputs": [],
      "source": [
        "# Number of protests per month\n",
        "from datetime import datetime\n",
        "data_conflicts.head()\n",
        "data_conflicts['Count'] = 1\n",
        "data_conflicts['EVENT_MONTH_YEAR'] = pd.to_datetime(data_conflicts['EVENT_DATE']).dt.to_period('m')\n",
        "data_conflicts2 = data_conflicts.groupby('EVENT_MONTH_YEAR').sum()\n",
        "\n",
        "data_conflicts2['Count'].plot()\n",
        "plt.axvline(datetime(2018, 10,1),color='black')\n",
        "plt.axvline(datetime(2022, 10,1),color='black')"
      ]
    },
    {
      "cell_type": "code",
      "execution_count": null,
      "id": "70684f38",
      "metadata": {
        "_kg_hide-input": true,
        "execution": {
          "iopub.execute_input": "2023-02-16T18:08:22.529542Z",
          "iopub.status.busy": "2023-02-16T18:08:22.528805Z",
          "iopub.status.idle": "2023-02-16T18:08:22.796654Z",
          "shell.execute_reply": "2023-02-16T18:08:22.795415Z"
        },
        "papermill": {
          "duration": 0.280087,
          "end_time": "2023-02-16T18:08:22.799144",
          "exception": false,
          "start_time": "2023-02-16T18:08:22.519057",
          "status": "completed"
        },
        "tags": [],
        "id": "70684f38"
      },
      "outputs": [],
      "source": [
        "# Number of protests per month\n",
        "data_conflicts2['FATALITIES'].plot()\n",
        "plt.axvline(datetime(2018, 10,1),color='black')\n",
        "plt.axvline(datetime(2022, 10,1),color='black')"
      ]
    },
    {
      "cell_type": "markdown",
      "id": "d116f524",
      "metadata": {
        "papermill": {
          "duration": 0.008832,
          "end_time": "2023-02-16T18:08:22.817399",
          "exception": false,
          "start_time": "2023-02-16T18:08:22.808567",
          "status": "completed"
        },
        "tags": [],
        "id": "d116f524"
      },
      "source": [
        "## Types of conflicts\n",
        "\n",
        "The dataset contains information on different types of conflicts. The pie graph below shows the distribution of the types of conflicts. Protests, battles, and violence against civilians account for 87% of all conflicts."
      ]
    },
    {
      "cell_type": "code",
      "execution_count": null,
      "id": "48788a58",
      "metadata": {
        "_kg_hide-input": true,
        "execution": {
          "iopub.execute_input": "2023-02-16T18:08:22.837771Z",
          "iopub.status.busy": "2023-02-16T18:08:22.837322Z",
          "iopub.status.idle": "2023-02-16T18:08:23.029497Z",
          "shell.execute_reply": "2023-02-16T18:08:23.028034Z"
        },
        "papermill": {
          "duration": 0.206358,
          "end_time": "2023-02-16T18:08:23.033004",
          "exception": false,
          "start_time": "2023-02-16T18:08:22.826646",
          "status": "completed"
        },
        "tags": [],
        "id": "48788a58"
      },
      "outputs": [],
      "source": [
        "# pie chart\n",
        "sns.set(rc={\"figure.figsize\":(12, 9)}) #width=6, height=5\n",
        "data_conflicts2 = data_conflicts.groupby('EVENT_TYPE').agg({'Count': 'sum'})\n",
        "data_conflicts2.head()\n",
        "\n",
        "#create pie chart\n",
        "plt.pie(data_conflicts2['Count'], labels = data_conflicts2.index,autopct='%.0f%%')\n",
        "plt.show()"
      ]
    },
    {
      "cell_type": "markdown",
      "id": "39a6b38e",
      "metadata": {
        "papermill": {
          "duration": 0.015297,
          "end_time": "2023-02-16T18:08:23.064383",
          "exception": false,
          "start_time": "2023-02-16T18:08:23.049086",
          "status": "completed"
        },
        "tags": [],
        "id": "39a6b38e"
      },
      "source": [
        "## How are the conflicts distributed among urban and rural municipalities?\n",
        "\n",
        "The bar plots below show that the majority of conflicts happen in urban areas. Protests are the most common instances of conflicts in both regions."
      ]
    },
    {
      "cell_type": "code",
      "execution_count": null,
      "id": "fb3b684e",
      "metadata": {
        "_kg_hide-input": true,
        "_kg_hide-output": true,
        "execution": {
          "iopub.execute_input": "2023-02-16T18:08:23.086973Z",
          "iopub.status.busy": "2023-02-16T18:08:23.086512Z",
          "iopub.status.idle": "2023-02-16T18:08:23.205360Z",
          "shell.execute_reply": "2023-02-16T18:08:23.204322Z"
        },
        "papermill": {
          "duration": 0.133098,
          "end_time": "2023-02-16T18:08:23.208280",
          "exception": false,
          "start_time": "2023-02-16T18:08:23.075182",
          "status": "completed"
        },
        "tags": [],
        "id": "fb3b684e"
      },
      "outputs": [],
      "source": [
        "data_conflicts2 = data_conflicts.groupby(['LOCATION','EVENT_TYPE']).agg({'Count': 'sum', 'FATALITIES':'sum'}).reset_index()\n",
        "data_conflicts2['Count'] = data_conflicts2['Count'].fillna(0)\n",
        "data_conflicts2['FATALITIES'] = data_conflicts2['FATALITIES'].fillna(0)\n",
        "\n",
        "data_cities2= data_cities.rename(columns={'CITY':'LOCATION'})\n",
        "data_merged = pd.merge(data_conflicts2,data_cities2,on='LOCATION',how='left')\n",
        "data_merged['CAPITAL'] = data_merged['CAPITAL'].fillna(0)\n",
        "\n",
        "# Is capital of the state?\n",
        "data_merged_capital = data_merged.groupby(['CAPITAL','EVENT_TYPE']).sum().reset_index()\n",
        "data_merged_capital['Fatality rate'] = data_merged_capital['FATALITIES']/data_merged_capital['Count']\n",
        "\n",
        "\n",
        "# Is rural?\n",
        "data_merged_rural = data_merged.groupby(['RURAL_URBAN','EVENT_TYPE']).sum().reset_index()\n",
        "data_merged_rural['Fatality rate'] = data_merged_rural['FATALITIES']/data_merged_rural['Count']"
      ]
    },
    {
      "cell_type": "code",
      "execution_count": null,
      "id": "3eed01f4",
      "metadata": {
        "_kg_hide-input": true,
        "execution": {
          "iopub.execute_input": "2023-02-16T18:08:23.230147Z",
          "iopub.status.busy": "2023-02-16T18:08:23.229218Z",
          "iopub.status.idle": "2023-02-16T18:08:23.737467Z",
          "shell.execute_reply": "2023-02-16T18:08:23.736073Z"
        },
        "papermill": {
          "duration": 0.522437,
          "end_time": "2023-02-16T18:08:23.740555",
          "exception": false,
          "start_time": "2023-02-16T18:08:23.218118",
          "status": "completed"
        },
        "tags": [],
        "id": "3eed01f4"
      },
      "outputs": [],
      "source": [
        "g = sns.catplot(data=data_merged_capital, kind=\"bar\",\n",
        "    x=\"EVENT_TYPE\", y=\"Count\", hue=\"CAPITAL\", palette=\"dark\", alpha=.6, height = 8, aspect=1.618)\n",
        "g.despine(left=True)\n",
        "g.set_axis_labels(\"\", \"Number of conflicts\")\n",
        "g.legend.set_title(\"\")"
      ]
    },
    {
      "cell_type": "code",
      "execution_count": null,
      "id": "d3972fba",
      "metadata": {
        "_kg_hide-input": true,
        "execution": {
          "iopub.execute_input": "2023-02-16T18:08:23.771460Z",
          "iopub.status.busy": "2023-02-16T18:08:23.770306Z",
          "iopub.status.idle": "2023-02-16T18:08:24.396860Z",
          "shell.execute_reply": "2023-02-16T18:08:24.395493Z"
        },
        "papermill": {
          "duration": 0.644781,
          "end_time": "2023-02-16T18:08:24.399489",
          "exception": false,
          "start_time": "2023-02-16T18:08:23.754708",
          "status": "completed"
        },
        "tags": [],
        "id": "d3972fba"
      },
      "outputs": [],
      "source": [
        "g = sns.catplot(data=data_merged_rural, kind=\"bar\",\n",
        "    x=\"EVENT_TYPE\", y=\"Count\", hue=\"RURAL_URBAN\", palette=\"dark\", alpha=.6, height = 8, aspect=1.618)\n",
        "g.despine(left=True)\n",
        "g.set_axis_labels(\"\", \"Number of conflicts\")\n",
        "g.legend.set_title(\"\")"
      ]
    },
    {
      "cell_type": "markdown",
      "id": "9ba64ff0",
      "metadata": {
        "papermill": {
          "duration": 0.010551,
          "end_time": "2023-02-16T18:08:24.421206",
          "exception": false,
          "start_time": "2023-02-16T18:08:24.410655",
          "status": "completed"
        },
        "tags": [],
        "id": "9ba64ff0"
      },
      "source": [
        "The two bar graphs below show the fatality rate (number of casualties divided by the total number of conflicts) in state capitals versus non-state capitals and in rural and urban municipalities. The fatality rate is a lot higher in rural areas, with each battle having at least one causality on average, and around 0.98 causalities on average when the conflict is classified as violence against civilians. This pattern is also prevalent when analysing rural and urban areas."
      ]
    },
    {
      "cell_type": "code",
      "execution_count": null,
      "id": "c7c58c02",
      "metadata": {
        "_kg_hide-input": true,
        "execution": {
          "iopub.execute_input": "2023-02-16T18:08:24.444134Z",
          "iopub.status.busy": "2023-02-16T18:08:24.443715Z",
          "iopub.status.idle": "2023-02-16T18:08:24.922923Z",
          "shell.execute_reply": "2023-02-16T18:08:24.921925Z"
        },
        "papermill": {
          "duration": 0.493564,
          "end_time": "2023-02-16T18:08:24.925382",
          "exception": false,
          "start_time": "2023-02-16T18:08:24.431818",
          "status": "completed"
        },
        "tags": [],
        "id": "c7c58c02"
      },
      "outputs": [],
      "source": [
        "g = sns.catplot(data=data_merged_capital, kind=\"bar\",\n",
        "    x=\"EVENT_TYPE\", y=\"Fatality rate\", hue=\"CAPITAL\", palette=\"dark\", alpha=.6, height = 8, aspect=1.618)\n",
        "g.despine(left=True)\n",
        "g.set_axis_labels(\"\", \"Fatalities/Count\")\n",
        "g.legend.set_title(\"\")"
      ]
    },
    {
      "cell_type": "code",
      "execution_count": null,
      "id": "cd718bdc",
      "metadata": {
        "_kg_hide-input": true,
        "execution": {
          "iopub.execute_input": "2023-02-16T18:08:24.949645Z",
          "iopub.status.busy": "2023-02-16T18:08:24.949254Z",
          "iopub.status.idle": "2023-02-16T18:08:25.672582Z",
          "shell.execute_reply": "2023-02-16T18:08:25.671361Z"
        },
        "papermill": {
          "duration": 0.738271,
          "end_time": "2023-02-16T18:08:25.675174",
          "exception": false,
          "start_time": "2023-02-16T18:08:24.936903",
          "status": "completed"
        },
        "tags": [],
        "id": "cd718bdc"
      },
      "outputs": [],
      "source": [
        "g = sns.catplot(data=data_merged_rural, kind=\"bar\",\n",
        "    x=\"EVENT_TYPE\", y=\"Fatality rate\", hue=\"CAPITAL\", palette=\"dark\", alpha=.6, height = 8, aspect=1.618)\n",
        "g.despine(left=True)\n",
        "g.set_axis_labels(\"\", \"Fatalities/Count\")\n",
        "g.legend.set_title(\"\")"
      ]
    },
    {
      "cell_type": "markdown",
      "id": "cbc8f8a0",
      "metadata": {
        "papermill": {
          "duration": 0.011309,
          "end_time": "2023-02-16T18:08:25.699781",
          "exception": false,
          "start_time": "2023-02-16T18:08:25.688472",
          "status": "completed"
        },
        "tags": [],
        "id": "cbc8f8a0"
      },
      "source": [
        "## Who are involved in the conflicts?\n",
        "\n",
        "The dataset also describes the actors involved in the conflicts."
      ]
    },
    {
      "cell_type": "markdown",
      "id": "06594193",
      "metadata": {
        "papermill": {
          "duration": 0.011114,
          "end_time": "2023-02-16T18:08:25.722266",
          "exception": false,
          "start_time": "2023-02-16T18:08:25.711152",
          "status": "completed"
        },
        "tags": [],
        "id": "06594193"
      },
      "source": [
        "### Who are the main actors?\n",
        "\n",
        "Below is a pie graph of the top 10 main actors in the conflicts. Protesters are the largest group by a 12 p.p. margin over the next group in the breakdown. However, unidentified armed groups, gangs, or police militias account for 46% of all conflicts."
      ]
    },
    {
      "cell_type": "code",
      "execution_count": null,
      "id": "7be19ec2",
      "metadata": {
        "_kg_hide-input": true,
        "execution": {
          "iopub.execute_input": "2023-02-16T18:08:25.747347Z",
          "iopub.status.busy": "2023-02-16T18:08:25.746948Z",
          "iopub.status.idle": "2023-02-16T18:08:26.012556Z",
          "shell.execute_reply": "2023-02-16T18:08:26.011507Z"
        },
        "papermill": {
          "duration": 0.281331,
          "end_time": "2023-02-16T18:08:26.015060",
          "exception": false,
          "start_time": "2023-02-16T18:08:25.733729",
          "status": "completed"
        },
        "tags": [],
        "id": "7be19ec2"
      },
      "outputs": [],
      "source": [
        "# top 5-10\n",
        "data_conflicts2 = data_conflicts.groupby('ACTOR1').agg({'Count': 'sum'})\n",
        "data_conflicts2 = data_conflicts2.sort_values(by='Count',ascending=False)\n",
        "data_conflicts2_sorted = data_conflicts2[0:9]\n",
        "data_conflicts2_sorted.loc['Other'] = data_conflicts2[10:].sum()\n",
        "data_conflicts2_sorted.head(11)\n",
        "\n",
        "#create pie chart\n",
        "plt.pie(data_conflicts2_sorted['Count'], labels = data_conflicts2_sorted.index,autopct='%.0f%%')\n",
        "plt.show()"
      ]
    },
    {
      "cell_type": "markdown",
      "id": "a4f80eb7",
      "metadata": {
        "papermill": {
          "duration": 0.013019,
          "end_time": "2023-02-16T18:08:26.041046",
          "exception": false,
          "start_time": "2023-02-16T18:08:26.028027",
          "status": "completed"
        },
        "tags": [],
        "id": "a4f80eb7"
      },
      "source": [
        "### Who's associated with whom?\n",
        "\n",
        "Below is an alluvial graph indicating the absolute numbers of pairs of actors. The dataset description is not clear with respect of what type of association this is, however. On the left side you can find the main actor in the conflict and the secondary actor on the right side. The majority of conflicts in the dataset involve the police and different unidentified armed groups."
      ]
    },
    {
      "cell_type": "code",
      "execution_count": null,
      "id": "5258c830",
      "metadata": {
        "_kg_hide-input": true,
        "_kg_hide-output": true,
        "execution": {
          "iopub.execute_input": "2023-02-16T18:08:26.068929Z",
          "iopub.status.busy": "2023-02-16T18:08:26.067972Z",
          "iopub.status.idle": "2023-02-16T18:08:30.700701Z",
          "shell.execute_reply": "2023-02-16T18:08:30.698725Z"
        },
        "papermill": {
          "duration": 4.649881,
          "end_time": "2023-02-16T18:08:30.703780",
          "exception": false,
          "start_time": "2023-02-16T18:08:26.053899",
          "status": "completed"
        },
        "tags": [],
        "id": "5258c830"
      },
      "outputs": [],
      "source": [
        "# TF-IDF Feature Generation\n",
        "from sklearn.feature_extraction.text import TfidfVectorizer\n",
        "from nltk.tokenize import RegexpTokenizer\n",
        "\n",
        "# Initialize regex tokenizer\n",
        "data_conflicts_NA = data_conflicts.dropna()\n",
        "tokenizer = RegexpTokenizer(r'\\w+')\n",
        "\n",
        "# # Vectorize document using TF-IDF\n",
        "tf_idf_vect = TfidfVectorizer(lowercase=True,\n",
        "                        stop_words='english',\n",
        "                        ngram_range = (1,1),\n",
        "                        tokenizer = tokenizer.tokenize)\n",
        "X_train_counts = tf_idf_vect.fit_transform(data_conflicts_NA['ACTOR1'])\n",
        "\n",
        "from sklearn.cluster import KMeans\n",
        "\n",
        "nclust = 15\n",
        "# Create Kmeans object and fit it to the training data\n",
        "kmeans = KMeans(n_clusters=nclust).fit(X_train_counts)\n",
        "data_conflicts_NA['ACTOR1_CLUSTER'] = kmeans.labels_\n",
        "\n",
        "\n",
        "X_train_counts = tf_idf_vect.fit_transform(data_conflicts_NA['ACTOR2'].dropna())\n",
        "# Create Kmeans object and fit it to the training data\n",
        "kmeans = KMeans(n_clusters=nclust).fit(X_train_counts)\n",
        "data_conflicts_NA['ACTOR2_CLUSTER'] = kmeans.labels_"
      ]
    },
    {
      "cell_type": "code",
      "execution_count": null,
      "id": "f28da72a",
      "metadata": {
        "_kg_hide-input": true,
        "_kg_hide-output": true,
        "execution": {
          "iopub.execute_input": "2023-02-16T18:08:30.731315Z",
          "iopub.status.busy": "2023-02-16T18:08:30.730891Z",
          "iopub.status.idle": "2023-02-16T18:08:30.802788Z",
          "shell.execute_reply": "2023-02-16T18:08:30.801646Z"
        },
        "papermill": {
          "duration": 0.089015,
          "end_time": "2023-02-16T18:08:30.805583",
          "exception": false,
          "start_time": "2023-02-16T18:08:30.716568",
          "status": "completed"
        },
        "tags": [],
        "id": "f28da72a"
      },
      "outputs": [],
      "source": [
        "# This part I did manually by inspecting the actors\n",
        "data_conflicts_NA.loc[data_conflicts_NA['ACTOR1_CLUSTER']==0,'ACTOR1_LABEL'] = 'Unidentified Gang and/or Police Militia'\n",
        "data_conflicts_NA.loc[data_conflicts_NA['ACTOR1_CLUSTER']==1,'ACTOR1_LABEL'] = 'Unidentified Armed Group'\n",
        "data_conflicts_NA.loc[data_conflicts_NA['ACTOR1_CLUSTER']==2,'ACTOR1_LABEL'] = 'Police'\n",
        "data_conflicts_NA.loc[data_conflicts_NA['ACTOR1_CLUSTER']==3,'ACTOR1_LABEL'] = 'Unidentified Gang'\n",
        "data_conflicts_NA.loc[data_conflicts_NA['ACTOR1_CLUSTER']==4,'ACTOR1_LABEL'] = 'Rioters'\n",
        "data_conflicts_NA.loc[data_conflicts_NA['ACTOR1_CLUSTER']==5,'ACTOR1_LABEL'] = 'Criminal factions'\n",
        "data_conflicts_NA.loc[data_conflicts_NA['ACTOR1_CLUSTER']==6,'ACTOR1_LABEL'] = 'Police'\n",
        "data_conflicts_NA.loc[data_conflicts_NA['ACTOR1_CLUSTER']==7,'ACTOR1_LABEL'] = 'Police'\n",
        "data_conflicts_NA.loc[data_conflicts_NA['ACTOR1_CLUSTER']==8,'ACTOR1_LABEL'] = 'Police'\n",
        "data_conflicts_NA.loc[data_conflicts_NA['ACTOR1_CLUSTER']==9,'ACTOR1_LABEL'] = 'Criminal factions'\n",
        "data_conflicts_NA.loc[data_conflicts_NA['ACTOR1_CLUSTER']==10,'ACTOR1_LABEL'] = 'Criminal factions'\n",
        "data_conflicts_NA.loc[data_conflicts_NA['ACTOR1_CLUSTER']==11,'ACTOR1_LABEL'] = 'Police'\n",
        "data_conflicts_NA.loc[data_conflicts_NA['ACTOR1_CLUSTER']==12,'ACTOR1_LABEL'] = 'Protesters'\n",
        "data_conflicts_NA.loc[data_conflicts_NA['ACTOR1_CLUSTER']==13,'ACTOR1_LABEL'] = 'Other'\n",
        "data_conflicts_NA.loc[data_conflicts_NA['ACTOR1_CLUSTER']==14,'ACTOR1_LABEL'] = 'Police'\n",
        "\n",
        "\n",
        "data_conflicts_NA.loc[data_conflicts_NA['ACTOR2_CLUSTER']==0,'ACTOR2_LABEL'] = 'Unidentified Gang and/or Police Militia'\n",
        "data_conflicts_NA.loc[data_conflicts_NA['ACTOR2_CLUSTER']==1,'ACTOR2_LABEL'] = 'Unidentified Armed Group'\n",
        "data_conflicts_NA.loc[data_conflicts_NA['ACTOR2_CLUSTER']==2,'ACTOR2_LABEL'] = 'Police'\n",
        "data_conflicts_NA.loc[data_conflicts_NA['ACTOR2_CLUSTER']==3,'ACTOR2_LABEL'] = 'Unidentified Gang'\n",
        "data_conflicts_NA.loc[data_conflicts_NA['ACTOR2_CLUSTER']==4,'ACTOR2_LABEL'] = 'Rioters'\n",
        "data_conflicts_NA.loc[data_conflicts_NA['ACTOR2_CLUSTER']==5,'ACTOR2_LABEL'] = 'Criminal factions'\n",
        "data_conflicts_NA.loc[data_conflicts_NA['ACTOR2_CLUSTER']==6,'ACTOR2_LABEL'] = 'Police'\n",
        "data_conflicts_NA.loc[data_conflicts_NA['ACTOR2_CLUSTER']==7,'ACTOR2_LABEL'] = 'Police'\n",
        "data_conflicts_NA.loc[data_conflicts_NA['ACTOR2_CLUSTER']==8,'ACTOR2_LABEL'] = 'Police'\n",
        "data_conflicts_NA.loc[data_conflicts_NA['ACTOR2_CLUSTER']==9,'ACTOR2_LABEL'] = 'Criminal factions'\n",
        "data_conflicts_NA.loc[data_conflicts_NA['ACTOR2_CLUSTER']==10,'ACTOR2_LABEL'] = 'Criminal factions'\n",
        "data_conflicts_NA.loc[data_conflicts_NA['ACTOR2_CLUSTER']==11,'ACTOR2_LABEL'] = 'Police'\n",
        "data_conflicts_NA.loc[data_conflicts_NA['ACTOR2_CLUSTER']==12,'ACTOR2_LABEL'] = 'Protesters'\n",
        "data_conflicts_NA.loc[data_conflicts_NA['ACTOR2_CLUSTER']==13,'ACTOR2_LABEL'] = 'Other'\n",
        "data_conflicts_NA.loc[data_conflicts_NA['ACTOR2_CLUSTER']==14,'ACTOR2_LABEL'] = 'Police'\n"
      ]
    },
    {
      "cell_type": "code",
      "execution_count": null,
      "id": "afa2e71a",
      "metadata": {
        "_kg_hide-input": true,
        "_kg_hide-output": false,
        "execution": {
          "iopub.execute_input": "2023-02-16T18:08:30.833448Z",
          "iopub.status.busy": "2023-02-16T18:08:30.832991Z",
          "iopub.status.idle": "2023-02-16T18:08:33.478195Z",
          "shell.execute_reply": "2023-02-16T18:08:33.477095Z"
        },
        "papermill": {
          "duration": 2.709795,
          "end_time": "2023-02-16T18:08:33.528258",
          "exception": false,
          "start_time": "2023-02-16T18:08:30.818463",
          "status": "completed"
        },
        "tags": [],
        "id": "afa2e71a"
      },
      "outputs": [],
      "source": [
        "import plotly.express as px\n",
        "\n",
        "df = data_conflicts_NA\n",
        "#df = data_conflicts_NA.groupby(['ACTOR1_CLUSTER','ACTOR2_CLUSTER']).sum().reset_index()\n",
        "df = df.rename(columns={'Count': 'size'})\n",
        "df = df.drop(columns=['LATITUDE','LONGITUDE','FATALITIES'])\n",
        "df['ACTOR1_CLUSTER'] = df['ACTOR1_CLUSTER'].apply(str)\n",
        "df['ACTOR2_CLUSTER'] = df['ACTOR2_CLUSTER'].apply(str)\n",
        "df = df.dropna()\n",
        "\n",
        "fig = px.parallel_categories(df, dimensions=['ACTOR1_LABEL','ACTOR2_LABEL'])\n",
        "fig.show(figsize=(15, 22), dpi=100)"
      ]
    },
    {
      "cell_type": "markdown",
      "id": "592b88f0",
      "metadata": {
        "papermill": {
          "duration": 0.033229,
          "end_time": "2023-02-16T18:08:33.597103",
          "exception": false,
          "start_time": "2023-02-16T18:08:33.563874",
          "status": "completed"
        },
        "tags": [],
        "id": "592b88f0"
      },
      "source": [
        "## Geographic distribution of protests\n",
        "\n",
        "The maps below show the geographic distribution of protests and fatalities. Unsurprisingly, conflicts are concentrated in more populated regions -- the southeast and the northeast regions. The distribution of fatalities look very similar as well, showing that the level of violence in the conflicts are homogeneous along regions (i.e., there is no 'more violent' region when it comes to conflicts)."
      ]
    },
    {
      "cell_type": "code",
      "execution_count": null,
      "id": "a49cd5f4",
      "metadata": {
        "_kg_hide-input": true,
        "execution": {
          "iopub.execute_input": "2023-02-16T18:08:33.667846Z",
          "iopub.status.busy": "2023-02-16T18:08:33.666996Z",
          "iopub.status.idle": "2023-02-16T18:08:55.619172Z",
          "shell.execute_reply": "2023-02-16T18:08:55.617932Z"
        },
        "papermill": {
          "duration": 21.990988,
          "end_time": "2023-02-16T18:08:55.621554",
          "exception": false,
          "start_time": "2023-02-16T18:08:33.630566",
          "status": "completed"
        },
        "tags": [],
        "id": "a49cd5f4"
      },
      "outputs": [],
      "source": [
        "# convert latitude and longitude to points\n",
        "# https://shakasom.medium.com/how-to-convert-latitude-longtitude-columns-in-csv-to-geometry-column-using-python-4219d2106dea\n",
        "\n",
        "\n",
        "map_df = gpd.read_file('BRA_adm1.shp')\n",
        "\n",
        "data_conflicts2 = data_conflicts.groupby(['LATITUDE','LONGITUDE']).sum().reset_index()\n",
        "\n",
        "geometry = [Point(xy) for xy in zip(data_conflicts2['LONGITUDE'], data_conflicts2['LATITUDE'])]\n",
        "data_conflicts_count = data_conflicts2.drop(columns=['LONGITUDE','LATITUDE','FATALITIES'])\n",
        "\n",
        "crs = {'init': 'epsg:4326'}\n",
        "gdf = gpd.GeoDataFrame(data_conflicts_count, crs=crs, geometry=geometry)\n",
        "\n",
        "ax = gplt.polyplot(map_df,  zorder=1)\n",
        "gplt.kdeplot(gdf, cmap='Blues', shade=True, clip=map_df.geometry, thresh=0.05, ax=ax)"
      ]
    },
    {
      "cell_type": "markdown",
      "id": "d5aae8ec",
      "metadata": {
        "papermill": {
          "duration": 0.035231,
          "end_time": "2023-02-16T18:08:55.692013",
          "exception": false,
          "start_time": "2023-02-16T18:08:55.656782",
          "status": "completed"
        },
        "tags": [],
        "id": "d5aae8ec"
      },
      "source": [
        "## Geographic distribution of fatalities"
      ]
    },
    {
      "cell_type": "code",
      "execution_count": null,
      "id": "d72613b0",
      "metadata": {
        "_kg_hide-input": true,
        "execution": {
          "iopub.execute_input": "2023-02-16T18:08:55.764052Z",
          "iopub.status.busy": "2023-02-16T18:08:55.763270Z",
          "iopub.status.idle": "2023-02-16T18:09:16.490168Z",
          "shell.execute_reply": "2023-02-16T18:09:16.488942Z"
        },
        "papermill": {
          "duration": 20.765739,
          "end_time": "2023-02-16T18:09:16.492855",
          "exception": false,
          "start_time": "2023-02-16T18:08:55.727116",
          "status": "completed"
        },
        "tags": [],
        "id": "d72613b0"
      },
      "outputs": [],
      "source": [
        "data_conflicts_fatalities = data_conflicts2.drop(columns=['LONGITUDE','LATITUDE','Count'])\n",
        "\n",
        "crs = {'init': 'epsg:4326'}\n",
        "gdf = gpd.GeoDataFrame(data_conflicts_fatalities, crs=crs, geometry=geometry)\n",
        "\n",
        "ax = gplt.polyplot(map_df,  zorder=1)\n",
        "gplt.kdeplot(gdf, cmap='Reds', shade=True, clip=map_df.geometry, thresh=0.05, ax=ax)"
      ]
    },
    {
      "cell_type": "markdown",
      "id": "aaa6f36a",
      "metadata": {
        "papermill": {
          "duration": 0.040559,
          "end_time": "2023-02-16T18:09:24.291280",
          "exception": false,
          "start_time": "2023-02-16T18:09:24.250721",
          "status": "completed"
        },
        "tags": [],
        "id": "aaa6f36a"
      },
      "source": [
        "## Social indicators and conflicts\n",
        "\n",
        "Are there patterns between social indicators and the amount of conflicts? The two plots below relate the number of conflicts with GDP per capita and a municipality-level human development index (HDI). While there does not seem to be a pattern between GDP per capita and the total amount of conflicts, there seems to be a positive association between HDI and total number of conflicts. Moreover, higher the HDI are associated with a higher dispersion of the number of conflicts."
      ]
    },
    {
      "cell_type": "code",
      "execution_count": null,
      "id": "bf81fd21",
      "metadata": {
        "_kg_hide-input": true,
        "execution": {
          "iopub.execute_input": "2023-02-16T18:09:24.379287Z",
          "iopub.status.busy": "2023-02-16T18:09:24.378881Z",
          "iopub.status.idle": "2023-02-16T18:09:24.778077Z",
          "shell.execute_reply": "2023-02-16T18:09:24.776765Z"
        },
        "papermill": {
          "duration": 0.446729,
          "end_time": "2023-02-16T18:09:24.781075",
          "exception": false,
          "start_time": "2023-02-16T18:09:24.334346",
          "status": "completed"
        },
        "tags": [],
        "id": "bf81fd21"
      },
      "outputs": [],
      "source": [
        "# First, merge datasets...\n",
        "data_cities= data_cities.rename(columns={'CITY':'LOCATION'})\n",
        "data_merged = pd.merge(data_conflicts,data_cities,on='LOCATION',how='inner')\n",
        "data_merged = data_merged.groupby('LOCATION').agg({'GDP_CAPITA':np.average, 'Count':'sum'})#, ''})\n",
        "\n",
        "cutoff1 = data_merged['GDP_CAPITA'].quantile(q=0.95)\n",
        "m1 = data_merged['GDP_CAPITA']<=cutoff1\n",
        "cutoff2 = data_merged['Count'].quantile(q=0.95)\n",
        "m2 = data_merged['Count']<=cutoff2\n",
        "\n",
        "data_merged = data_merged[m1 & m2]\n",
        "sns.scatterplot(data=data_merged, x=\"GDP_CAPITA\", y=\"Count\")"
      ]
    },
    {
      "cell_type": "code",
      "execution_count": null,
      "id": "42a2d20b",
      "metadata": {
        "_kg_hide-input": true,
        "execution": {
          "iopub.execute_input": "2023-02-16T18:09:24.868892Z",
          "iopub.status.busy": "2023-02-16T18:09:24.868447Z",
          "iopub.status.idle": "2023-02-16T18:09:25.292701Z",
          "shell.execute_reply": "2023-02-16T18:09:25.291477Z"
        },
        "papermill": {
          "duration": 0.470569,
          "end_time": "2023-02-16T18:09:25.295504",
          "exception": false,
          "start_time": "2023-02-16T18:09:24.824935",
          "status": "completed"
        },
        "tags": [],
        "id": "42a2d20b"
      },
      "outputs": [],
      "source": [
        "# First, merge datasets...\n",
        "data_cities= data_cities.rename(columns={'CITY':'LOCATION'})\n",
        "data_merged = pd.merge(data_conflicts,data_cities,on='LOCATION',how='inner')\n",
        "data_merged = data_merged.groupby('LOCATION').agg({'IDHM':np.average, 'Count':'sum'})\n",
        "\n",
        "cutoff1 = data_merged['IDHM'].quantile(q=0.95)\n",
        "m1 = data_merged['IDHM']<=cutoff1\n",
        "cutoff2 = data_merged['Count'].quantile(q=0.95)\n",
        "m2 = data_merged['Count']<=cutoff2\n",
        "\n",
        "data_merged = data_merged[m1 & m2]\n",
        "sns.scatterplot(data=data_merged, x=\"IDHM\", y=\"Count\")\n",
        "\n",
        "# \\/ different scatter"
      ]
    }
  ],
  "metadata": {
    "kernelspec": {
      "display_name": "Python 3",
      "language": "python",
      "name": "python3"
    },
    "language_info": {
      "codemirror_mode": {
        "name": "ipython",
        "version": 3
      },
      "file_extension": ".py",
      "mimetype": "text/x-python",
      "name": "python",
      "nbconvert_exporter": "python",
      "pygments_lexer": "ipython3",
      "version": "3.7.12"
    },
    "papermill": {
      "default_parameters": {},
      "duration": 80.339859,
      "end_time": "2023-02-16T18:09:26.765897",
      "environment_variables": {},
      "exception": null,
      "input_path": "__notebook__.ipynb",
      "output_path": "__notebook__.ipynb",
      "parameters": {},
      "start_time": "2023-02-16T18:08:06.426038",
      "version": "2.3.4"
    },
    "colab": {
      "provenance": []
    }
  },
  "nbformat": 4,
  "nbformat_minor": 5
}