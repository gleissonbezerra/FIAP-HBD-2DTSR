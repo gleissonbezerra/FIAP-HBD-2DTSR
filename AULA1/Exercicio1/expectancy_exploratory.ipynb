{
  "metadata": {
    "kernelspec": {
      "language": "python",
      "display_name": "Python 3",
      "name": "python3"
    },
    "language_info": {
      "name": "python",
      "version": "3.7.12",
      "mimetype": "text/x-python",
      "codemirror_mode": {
        "name": "ipython",
        "version": 3
      },
      "pygments_lexer": "ipython3",
      "nbconvert_exporter": "python",
      "file_extension": ".py"
    },
    "colab": {
      "provenance": []
    }
  },
  "nbformat_minor": 0,
  "nbformat": 4,
  "cells": [
    {
      "cell_type": "markdown",
      "source": [
        "# Importing the Modules"
      ],
      "metadata": {
        "id": "eW4KU2eatot0"
      }
    },
    {
      "cell_type": "code",
      "source": [
        "import numpy as np\n",
        "import pandas as pd\n",
        "import matplotlib.pyplot as plt\n",
        "import seaborn as sns\n",
        "import sklearn\n",
        "import tensorflow as tf\n",
        "\n",
        "import os\n"
      ],
      "metadata": {
        "_uuid": "8f2839f25d086af736a60e9eeb907d3b93b6e0e5",
        "_cell_guid": "b1076dfc-b9ad-4769-8c92-a6c4dae69d19",
        "execution": {
          "iopub.status.busy": "2023-05-01T18:56:42.877935Z",
          "iopub.execute_input": "2023-05-01T18:56:42.878982Z",
          "iopub.status.idle": "2023-05-01T18:56:42.892290Z",
          "shell.execute_reply.started": "2023-05-01T18:56:42.878880Z",
          "shell.execute_reply": "2023-05-01T18:56:42.890778Z"
        },
        "trusted": true,
        "id": "TiPdOc4Ytot2"
      },
      "execution_count": null,
      "outputs": []
    },
    {
      "cell_type": "markdown",
      "source": [
        "# The Data"
      ],
      "metadata": {
        "id": "0Pm9ipm7tot3"
      }
    },
    {
      "cell_type": "code",
      "source": [
        "df=pd.read_csv('Life-Expectancy-Data-Updated.csv')\n",
        "df.sample(5)"
      ],
      "metadata": {
        "execution": {
          "iopub.status.busy": "2023-05-01T17:17:14.573491Z",
          "iopub.execute_input": "2023-05-01T17:17:14.573976Z",
          "iopub.status.idle": "2023-05-01T17:17:14.622821Z",
          "shell.execute_reply.started": "2023-05-01T17:17:14.573934Z",
          "shell.execute_reply": "2023-05-01T17:17:14.621529Z"
        },
        "trusted": true,
        "id": "VHyUJ5mTtot3"
      },
      "execution_count": null,
      "outputs": []
    },
    {
      "cell_type": "code",
      "source": [
        "df.shape"
      ],
      "metadata": {
        "execution": {
          "iopub.status.busy": "2023-05-01T17:07:17.912583Z",
          "iopub.execute_input": "2023-05-01T17:07:17.913177Z",
          "iopub.status.idle": "2023-05-01T17:07:17.921512Z",
          "shell.execute_reply.started": "2023-05-01T17:07:17.913134Z",
          "shell.execute_reply": "2023-05-01T17:07:17.920142Z"
        },
        "trusted": true,
        "id": "qU_Fueumtot4"
      },
      "execution_count": null,
      "outputs": []
    },
    {
      "cell_type": "code",
      "source": [
        "df.info()"
      ],
      "metadata": {
        "execution": {
          "iopub.status.busy": "2023-05-01T17:07:21.667825Z",
          "iopub.execute_input": "2023-05-01T17:07:21.668265Z",
          "iopub.status.idle": "2023-05-01T17:07:21.685888Z",
          "shell.execute_reply.started": "2023-05-01T17:07:21.668223Z",
          "shell.execute_reply": "2023-05-01T17:07:21.684843Z"
        },
        "trusted": true,
        "id": "cYYjOrnntot4"
      },
      "execution_count": null,
      "outputs": []
    },
    {
      "cell_type": "code",
      "source": [
        "df.describe().T"
      ],
      "metadata": {
        "execution": {
          "iopub.status.busy": "2023-05-01T17:07:29.748267Z",
          "iopub.execute_input": "2023-05-01T17:07:29.748683Z",
          "iopub.status.idle": "2023-05-01T17:07:29.819533Z",
          "shell.execute_reply.started": "2023-05-01T17:07:29.748641Z",
          "shell.execute_reply": "2023-05-01T17:07:29.818176Z"
        },
        "trusted": true,
        "id": "Q_r6DV_Utot4"
      },
      "execution_count": null,
      "outputs": []
    },
    {
      "cell_type": "markdown",
      "source": [
        "# Null Values"
      ],
      "metadata": {
        "id": "a-VvK9bCtot4"
      }
    },
    {
      "cell_type": "code",
      "source": [
        "df.isna().sum()"
      ],
      "metadata": {
        "execution": {
          "iopub.status.busy": "2023-05-01T17:07:33.186399Z",
          "iopub.execute_input": "2023-05-01T17:07:33.186795Z",
          "iopub.status.idle": "2023-05-01T17:07:33.199327Z",
          "shell.execute_reply.started": "2023-05-01T17:07:33.186762Z",
          "shell.execute_reply": "2023-05-01T17:07:33.197814Z"
        },
        "trusted": true,
        "id": "TuHFkwvVtot4"
      },
      "execution_count": null,
      "outputs": []
    },
    {
      "cell_type": "code",
      "source": [
        "df.columns"
      ],
      "metadata": {
        "execution": {
          "iopub.status.busy": "2023-05-01T17:07:35.835107Z",
          "iopub.execute_input": "2023-05-01T17:07:35.835554Z",
          "iopub.status.idle": "2023-05-01T17:07:35.843779Z",
          "shell.execute_reply.started": "2023-05-01T17:07:35.835510Z",
          "shell.execute_reply": "2023-05-01T17:07:35.842462Z"
        },
        "trusted": true,
        "id": "E8mELfKFtot5"
      },
      "execution_count": null,
      "outputs": []
    },
    {
      "cell_type": "markdown",
      "source": [
        "# Visualizations"
      ],
      "metadata": {
        "execution": {
          "iopub.status.busy": "2023-05-01T15:17:20.118794Z",
          "iopub.execute_input": "2023-05-01T15:17:20.119191Z",
          "iopub.status.idle": "2023-05-01T15:17:20.130597Z",
          "shell.execute_reply.started": "2023-05-01T15:17:20.119155Z",
          "shell.execute_reply": "2023-05-01T15:17:20.128978Z"
        },
        "id": "Y6nynojBtot5"
      }
    },
    {
      "cell_type": "code",
      "source": [
        "df.boxplot('Life_expectancy')\n",
        "plt.show"
      ],
      "metadata": {
        "execution": {
          "iopub.status.busy": "2023-05-01T17:07:39.474778Z",
          "iopub.execute_input": "2023-05-01T17:07:39.475219Z",
          "iopub.status.idle": "2023-05-01T17:07:39.687598Z",
          "shell.execute_reply.started": "2023-05-01T17:07:39.475177Z",
          "shell.execute_reply": "2023-05-01T17:07:39.686184Z"
        },
        "trusted": true,
        "id": "mJUx0IHttot5"
      },
      "execution_count": null,
      "outputs": []
    },
    {
      "cell_type": "markdown",
      "source": [
        "The Average life expectancy is 72 years, however there are still a lot of outliers which means that the there are some countries where the life expectancy is very low of around 40 years"
      ],
      "metadata": {
        "id": "HnhVRoRrtot5"
      }
    },
    {
      "cell_type": "code",
      "source": [
        "sns.boxplot(x='Economy_status_Developed',y ='Life_expectancy',data = df)"
      ],
      "metadata": {
        "execution": {
          "iopub.status.busy": "2023-05-01T17:07:44.067815Z",
          "iopub.execute_input": "2023-05-01T17:07:44.068315Z",
          "iopub.status.idle": "2023-05-01T17:07:44.289127Z",
          "shell.execute_reply.started": "2023-05-01T17:07:44.068269Z",
          "shell.execute_reply": "2023-05-01T17:07:44.288146Z"
        },
        "trusted": true,
        "id": "bB3AVZYwtot6"
      },
      "execution_count": null,
      "outputs": []
    },
    {
      "cell_type": "markdown",
      "source": [
        "The people in the developed countries has life expectancy of 79 years compared to the devoloping countries with the life expectancy of 69 years"
      ],
      "metadata": {
        "id": "u1Nu_vWQtot6"
      }
    },
    {
      "cell_type": "markdown",
      "source": [
        "[sns.pairplot](http:seaborn.pydata.org/generated/seaborn.pairplot.html) can be used to view the various combinations on how the columns are related to each other"
      ],
      "metadata": {
        "id": "XlBOxsR-tot6"
      }
    },
    {
      "cell_type": "code",
      "source": [
        "data_corr = df[['Life_expectancy','Adult_mortality','Schooling','GDP_per_capita',\n",
        "       'Population_mln']].corr()\n",
        "data_corr"
      ],
      "metadata": {
        "execution": {
          "iopub.status.busy": "2023-05-01T17:07:51.107534Z",
          "iopub.execute_input": "2023-05-01T17:07:51.108700Z",
          "iopub.status.idle": "2023-05-01T17:07:51.126361Z",
          "shell.execute_reply.started": "2023-05-01T17:07:51.108623Z",
          "shell.execute_reply": "2023-05-01T17:07:51.125156Z"
        },
        "trusted": true,
        "id": "eVLfnv7ktot6"
      },
      "execution_count": null,
      "outputs": []
    },
    {
      "cell_type": "code",
      "source": [
        "sns.heatmap(data_corr,annot=True)"
      ],
      "metadata": {
        "execution": {
          "iopub.status.busy": "2023-05-01T17:07:56.797339Z",
          "iopub.execute_input": "2023-05-01T17:07:56.797802Z",
          "iopub.status.idle": "2023-05-01T17:07:57.384074Z",
          "shell.execute_reply.started": "2023-05-01T17:07:56.797756Z",
          "shell.execute_reply": "2023-05-01T17:07:57.381985Z"
        },
        "trusted": true,
        "id": "V_q7WSQCtot7"
      },
      "execution_count": null,
      "outputs": []
    },
    {
      "cell_type": "markdown",
      "source": [
        "Greater the schooling and GDP ,greater the Life expectancy"
      ],
      "metadata": {
        "id": "SAPZ36w6tot7"
      }
    }
  ]
}